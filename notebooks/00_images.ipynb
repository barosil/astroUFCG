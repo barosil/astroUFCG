{
 "cells": [
  {
   "cell_type": "code",
   "execution_count": 3,
   "id": "21b20fe9",
   "metadata": {},
   "outputs": [],
   "source": [
    "import pandas as pd\n",
    "import numpy as np\n",
    "from src.utils.image_utils import processar_csv"
   ]
  },
  {
   "cell_type": "code",
   "execution_count": 4,
   "id": "7ae14fb5",
   "metadata": {},
   "outputs": [],
   "source": [
    "urls = [\n",
    "    \"https://upload.wikimedia.org/wikipedia/commons/f/fa/Eratosthenes_profile.png\",\n",
    "    \"https://www.meteorologiaenred.com/wp-content/uploads/2019/05/Aristarco-de-Samos.jpg.webp\",\n",
    "    \"https://www.tychos.info/citation/131B_hipparchus-coin.jpg\",\n",
    "    \"https://blogger.googleusercontent.com/img/b/R29vZ2xl/AVvXsEgfy8ysnQuBHsojvt67ZxNLQZH19V71EiNkB18GUNUV2LPJWA0xovLoo8CY8y2sN7sZeMJRxIQ1tS3_3s0rybL_yt6oenWKkBM-JKv81z318d79Ch_V7tFaHtODdAMtwh5ZNlKpr1ZUVKwx/s400/thales.gif\",\n",
    "    \"https://thumbs.dreamstime.com/b/est%C3%A1tua-arquimedada-em-siracusa-it%C3%A1lia-ortigia-syracusa-sicily-de-setembro-arquimedes-do-engenheiro-matem%C3%A1tico-grego-astr%C3%B4nomo-299859000.jpg\",\n",
    "    \"https://upload.wikimedia.org/wikipedia/commons/thumb/3/30/Euklid-von-Alexandria_1.jpg/250px-Euklid-von-Alexandria_1.jpg\",\n",
    "    \"https://cdn.britannica.com/88/149188-050-DC34842F/Plato-portrait-bust-original-Capitoline-Museums-Rome.jpg?w=300\",\n",
    "    \"https://upload.wikimedia.org/wikipedia/commons/thumb/6/61/The_Death_of_Socrates_cropped.jpg/330px-The_Death_of_Socrates_cropped.jpg\",\n",
    "    \"https://i.pinimg.com/564x/b8/a4/8b/b8a48b13fe14e86fbdb455375ddb8dcb.jpg\",\n",
    "    \"https://upload.wikimedia.org/wikipedia/commons/thumb/a/ae/Aristotle_Altemps_Inv8575.jpg/960px-Aristotle_Altemps_Inv8575.jpg\",\n",
    "]\n",
    "descricao = [\"Eratóstenes de Cirene foi um matemático, geógrafo, poeta e astrônomo grego, que viveu entre 276 a.C. e 194 a.C. Ele é mais conhecido por calcular a circunferência da Terra com notável precisão.\",\n",
    "\"Aristarco de Samos foi um astrônomo grego do século III a.C., conhecido por propor um modelo heliocêntrico do sistema solar, onde a Terra e os planetas giram em torno do Sol, desafiando a visão geocêntrica predominante na época.\",\n",
    "\"Hiparco de Niceia foi um astrônomo grego do século II a.C., amplamente considerado o fundador da astronomia científica. Ele é conhecido por suas contribuições significativas à astronomia, incluindo a catalogação de estrelas e o desenvolvimento de métodos para medir a distâncias e tamanhos dos corpos celestes.\",\n",
    "\"Thales de Mileto foi um filósofo grego do século VI a.C., amplamente considerado o primeiro filósofo ocidental. Ele é conhecido por suas contribuições à matemática, astronomia e filosofia, sendo famoso por sua afirmação de que a água é o princípio fundamental de todas as coisas.\",\n",
    "\"Euclides de Alexandria foi um matemático grego do século III a.C., conhecido como o 'Pai da Geometria'. Ele é famoso por seu trabalho 'Os Elementos', uma coleção de 13 livros que sistematiza o conhecimento geométrico da época e estabelece os fundamentos da geometria euclidiana.\",\n",
    "\"Arquímedes de Siracusa foi um matemático, físico, engenheiro, inventor e astrônomo grego do século III a.C., amplamente reconhecido como um dos maiores matemáticos da antiguidade. Ele é famoso por suas contribuições fundamentais à matemática, física e engenharia, incluindo o princípio da alavanca e o cálculo do volume de sólidos.\",\n",
    "\"Platão foi um filósofo grego do século IV a.C., conhecido por suas obras sobre filosofia, política e epistemologia. Ele fundou a Academia de Atenas, uma das primeiras instituições de ensino superior do mundo ocidental, e é famoso por seus diálogos, que exploram questões fundamentais sobre a verdade, a justiça e a natureza da realidade.\"\n",
    ",\"Sócrates foi um filósofo grego do século V a.C., amplamente considerado um dos fundadores da filosofia ocidental. Ele é conhecido por seu método de questionamento dialético, que buscava estimular o pensamento crítico e a reflexão ética. Sócrates não deixou escritos, mas suas ideias foram registradas por seus discípulos, como Platão.\",\n",
    "\"Parmênides foi um filósofo grego do século V a.C., conhecido por sua obra 'Sobre a Natureza', onde apresenta uma visão monista da realidade, argumentando que a mudança é uma ilusão e que a verdadeira realidade é imutável e eterna. Ele é considerado um dos primeiros pensadores a questionar a natureza do ser e da existência.\",\n",
    "\"Aristóteles foi um filósofo grego do século IV a.C., aluno de Platão e tutor de Alexandre, o Grande. Ele é conhecido por suas contribuições em diversas áreas, incluindo lógica, ética, política, metafísica e ciências naturais. Aristóteles fundou o Liceu, uma escola filosófica em Atenas, e suas obras influenciaram profundamente o pensamento ocidental por séculos.\",\n",
    "]\n",
    "\n",
    "formatos = [\"quadrado\"] * len(urls)\n",
    "tamanhos = [\"medio|thumbnail\"] * len(urls)\n",
    "nomes = [\n",
    "    \"Eratóstenes\",\n",
    "    \"Aristarco\",\n",
    "    \"Hiparco\",\n",
    "    \"Thales\",\n",
    "    \"Euclides\",\n",
    "    \"Arquimedes\",\n",
    "    \"Platão\",\n",
    "    \"Sócrates\",\n",
    "    \"Parmênides\",\n",
    "    \"Aristóteles\",\n",
    "]"
   ]
  },
  {
   "cell_type": "code",
   "execution_count": 5,
   "id": "fff15ecb",
   "metadata": {},
   "outputs": [],
   "source": [
    "df = pd.DataFrame({\n",
    "    \"id\": range(1, len(nomes) + 1),\n",
    "    \"label\": nomes,\n",
    "    \"nome_original\": [None] * len(nomes),\n",
    "    \"url\": urls,\n",
    "    \"timestamp\": [None] * len(nomes),\n",
    "    \"descricao\": descricao,\n",
    "    \"nome_versao\": nomes,\n",
    "    \"formato\": formatos,\n",
    "    \"tamanho\": tamanhos,\n",
    "    \"processado\": [\"NÃO\"] * len(nomes),\n",
    "    \n",
    "})\n"
   ]
  },
  {
   "cell_type": "code",
   "execution_count": 6,
   "id": "4df33663",
   "metadata": {},
   "outputs": [],
   "source": [
    "from src.utils.image_utils import CSV_FILE\n",
    "#df.to_csv(CSV_FILE, index=False)"
   ]
  },
  {
   "cell_type": "code",
   "execution_count": 7,
   "id": "f7a96bc2",
   "metadata": {},
   "outputs": [
    {
     "name": "stdout",
     "output_type": "stream",
     "text": [
      "[ERRO] Falha ao baixar imagem https://upload.wikimedia.org/wikipedia/commons/thumb/6/61/The_Death_of_Socrates_cropped.jpg/330px-The_Death_of_Socrates_cropped.jpg: 403 Client Error: Forbidden. Please comply with the User-Agent policy: https://meta.wikimedia.org/wiki/User-Agent_policy for url: https://upload.wikimedia.org/wikipedia/commons/thumb/6/61/The_Death_of_Socrates_cropped.jpg/330px-The_Death_of_Socrates_cropped.jpg\n",
      "[OK] DataFrame salvo em /extra/BAROSI/PYTHONIA/LIVROS/astroUFCG/src/utils/../../data/misc/imagens.csv\n",
      "[OK] 18 registros adicionados ao /extra/BAROSI/PYTHONIA/LIVROS/astroUFCG/src/utils/../../data/misc/imagens.csv\n"
     ]
    }
   ],
   "source": [
    "processar_csv(CSV_FILE, data=df)"
   ]
  },
  {
   "cell_type": "code",
   "execution_count": null,
   "id": "dee0b8dc",
   "metadata": {},
   "outputs": [],
   "source": []
  }
 ],
 "metadata": {
  "kernelspec": {
   "display_name": "astroufcg",
   "language": "python",
   "name": "python3"
  },
  "language_info": {
   "codemirror_mode": {
    "name": "ipython",
    "version": 3
   },
   "file_extension": ".py",
   "mimetype": "text/x-python",
   "name": "python",
   "nbconvert_exporter": "python",
   "pygments_lexer": "ipython3",
   "version": "3.12.11"
  }
 },
 "nbformat": 4,
 "nbformat_minor": 5
}
