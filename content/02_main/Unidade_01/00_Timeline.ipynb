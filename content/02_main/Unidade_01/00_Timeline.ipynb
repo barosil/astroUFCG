{
 "cells": [
  {
   "cell_type": "markdown",
   "id": "fa503381",
   "metadata": {},
   "source": [
    "# Astronomia na Antiquidade "
   ]
  },
  {
   "cell_type": "code",
   "execution_count": null,
   "id": "280cb1c2",
   "metadata": {},
   "outputs": [],
   "source": [
    "import pandas as pd\n",
    "from src.utils.timeline import build_timeline\n",
    "from src.utils.image_utils import get_image\n",
    "file = \"../../../data/history/timeline.csv\"\n",
    "df = pd.read_csv(file)\n",
    "df = df.apply(lambda x: x.str.strip() if x.dtype == \"object\" else x)\n",
    "df = df[(df.START > -650) & (df.START < -100)]\n",
    "df[\"IMAGEM\"] = df.NOME.apply(lambda x: get_image(query=x, tamanho=\"thumbnail\", inplace=True)).apply(\n",
    "    lambda x: \"../../00_images/processed/\" + x[1] if isinstance(x, tuple) else x)"
   ]
  },
  {
   "cell_type": "code",
   "execution_count": null,
   "id": "b9fac0a5",
   "metadata": {},
   "outputs": [
    {
     "name": "stdout",
     "output_type": "stream",
     "text": [
      "Launching server at http://localhost:45761\n"
     ]
    },
    {
     "data": {
      "text/plain": [
       "<panel.io.server.Server at 0x7f1820698e30>"
      ]
     },
     "execution_count": 8,
     "metadata": {},
     "output_type": "execute_result"
    },
    {
     "name": "stdout",
     "output_type": "stream",
     "text": [
      "Opening in existing browser session.\n"
     ]
    }
   ],
   "source": [
    "timeline_panel = build_timeline(\n",
    "    df,\n",
    "    image_size=120,\n",
    "    width=1200,\n",
    "    entry_height=30,\n",
    "    max_rows=5,\n",
    "    max_ticks=12,\n",
    "    aspect_ratio=9 / 16,\n",
    "    pad=.3,\n",
    "    bgcolor=\"aliceblue\"\n",
    ")\n",
    "timeline_panel.servable()"
   ]
  },
  {
   "cell_type": "markdown",
   "id": "cc16354e",
   "metadata": {},
   "source": [
    "```{admonition} Questões\n",
    ":class: info\n",
    "1. Como conseguimos aprender o que hoje nos parece tão óbvio, sobre o sistema solar?\n",
    "2. O que teria acontecido se Eratóstenes tivesse nascido em outro lugar?\n",
    "3. Como fazemos medidas sobre uma esfera?\n",
    "4. Como medimos o tempo?\n",
    "5. Como medimos as posições dos objetos na esfera celeste?\n",
    "6. Por que foi tão demorado para aceitar o modelo heliocêntrico?\n",
    "7. Como Aristarco planejou uma experiência perfeita e fracassou no resultado?\n",
    "```"
   ]
  }
 ],
 "metadata": {
  "kernelspec": {
   "display_name": "astroufcg",
   "language": "python",
   "name": "python3"
  },
  "language_info": {
   "codemirror_mode": {
    "name": "ipython",
    "version": 3
   },
   "file_extension": ".py",
   "mimetype": "text/x-python",
   "name": "python",
   "nbconvert_exporter": "python",
   "pygments_lexer": "ipython3",
   "version": "3.12.11"
  }
 },
 "nbformat": 4,
 "nbformat_minor": 5
}
