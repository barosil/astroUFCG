{
 "cells": [
  {
   "cell_type": "markdown",
   "id": "f156b895-45a7-4733-88af-24572e83181a",
   "metadata": {},
   "source": [
    "# Introdução à Astrofísica e à Cosmologia\n",
    "\n",
    "## Perambulando pela História, Física e Computação\n",
    "\n",
    "```{image} ../images/capa.jpg\n",
    ":alt: Abóboda Celeste\n",
    ":width: 1000px\n",
    ":align: center\n",
    "```"
   ]
  },
  {
   "cell_type": "code",
   "execution_count": null,
   "id": "1e0b6274-ad00-42d8-9449-63b4374d0761",
   "metadata": {},
   "outputs": [],
   "source": []
  }
 ],
 "metadata": {
  "kernelspec": {
   "display_name": "ASTRO",
   "language": "python",
   "name": "astro"
  },
  "language_info": {
   "codemirror_mode": {
    "name": "ipython",
    "version": 3
   },
   "file_extension": ".py",
   "mimetype": "text/x-python",
   "name": "python",
   "nbconvert_exporter": "python",
   "pygments_lexer": "ipython3",
   "version": "3.12.11"
  }
 },
 "nbformat": 4,
 "nbformat_minor": 5
}
